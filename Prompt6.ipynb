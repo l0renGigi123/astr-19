{
 "cells": [
  {
   "cell_type": "markdown",
   "id": "ca56350f-bc10-4297-ab43-36c5815d1105",
   "metadata": {},
   "source": [
    "## Trig Functions\n",
    "\n",
    "In this notebook we will define two functions: sin(x),cos(x).\n",
    "Then we will tabulate the values of sin(x) and cos(x) for x ranging from 0 to 2.\n",
    "We will then print the first 10 values in a table."
   ]
  },
  {
   "cell_type": "code",
   "execution_count": 5,
   "id": "3a038508-99b8-48e6-827f-a9ea4874d029",
   "metadata": {},
   "outputs": [],
   "source": [
    "import numpy as np\n",
    "\n",
    "#sin function\n",
    "def sin_func(x):\n",
    "    return np.sin(x)"
   ]
  },
  {
   "cell_type": "markdown",
   "id": "e8f3d795-4ddf-4278-84df-18fb73d33ebd",
   "metadata": {},
   "source": [
    "In the next cell we will define the cosine function."
   ]
  },
  {
   "cell_type": "code",
   "execution_count": 9,
   "id": "30d1cfc7-00df-471e-ae06-650a1c22c339",
   "metadata": {},
   "outputs": [],
   "source": [
    "#cos function\n",
    "def cos_func(x):\n",
    "    return np.cos(x)"
   ]
  },
  {
   "cell_type": "markdown",
   "id": "b8e64c94-f16a-4ca9-b421-1dc64c357e73",
   "metadata": {},
   "source": [
    "# Tabulate\n",
    "\n",
    "Now we'll create a table of values for x ranging from 0 to 2, with 1000 entries.\n",
    "For each value of x, we will calculate sin(x) and cos(x) using the defined functions above.\n"
   ]
  },
  {
   "cell_type": "code",
   "execution_count": 13,
   "id": "62f94e00-8f04-4d2a-9ef5-1210a884601e",
   "metadata": {},
   "outputs": [],
   "source": [
    "import pandas as pd\n",
    "\n",
    "x_values = np.linspace(0, 2, 1000)\n",
    "sin_values = sin_func(x_values)\n",
    "cos_values = cos_func(x_values)\n",
    "\n",
    "# Create a DataFrame to store the values\n",
    "trig_table = pd.DataFrame({'x': x_values, 'sin(x)': sin_values, 'cos(x)': cos_values})"
   ]
  },
  {
   "cell_type": "markdown",
   "id": "15699f34-9a8f-4d53-b442-cbe86986e453",
   "metadata": {},
   "source": [
    "## Displaying the First 10 Values\n",
    "\n",
    "Now, we will print out the first 10 values of x, sin(x), and cos(x).\n"
   ]
  },
  {
   "cell_type": "code",
   "execution_count": 15,
   "id": "77e3362b-c20c-4fcc-86da-47656a90ac0e",
   "metadata": {},
   "outputs": [
    {
     "name": "stdout",
     "output_type": "stream",
     "text": [
      "x          sin(x)     cos(x)    \n",
      "0.00       0.00000    1.00000   \n",
      "0.00       0.00200    1.00000   \n",
      "0.00       0.00400    0.99999   \n",
      "0.01       0.00601    0.99998   \n",
      "0.01       0.00801    0.99997   \n",
      "0.01       0.01001    0.99995   \n",
      "0.01       0.01201    0.99993   \n",
      "0.01       0.01401    0.99990   \n",
      "0.02       0.01602    0.99987   \n",
      "0.02       0.01802    0.99984   \n"
     ]
    }
   ],
   "source": [
    "# Print the first 10 values in columns\n",
    "print(f\"{'x':<10} {'sin(x)':<10} {'cos(x)':<10}\") #each column has 10 spaces\n",
    "for i in range(10): #0-9 inclusive\n",
    "    #for each i-th value in the table, print 10 spaces with 2 after decimal\n",
    "    print(f\"{trig_table['x'][i]:<10.2f} {trig_table['sin(x)'][i]:<10.5f} {trig_table['cos(x)'][i]:<10.5f}\") "
   ]
  },
  {
   "cell_type": "code",
   "execution_count": null,
   "id": "6049e1eb-f66b-4f24-9d1d-d4fec6364f79",
   "metadata": {},
   "outputs": [],
   "source": []
  }
 ],
 "metadata": {
  "kernelspec": {
   "display_name": "ASTR 19",
   "language": "python",
   "name": "astr19"
  },
  "language_info": {
   "codemirror_mode": {
    "name": "ipython",
    "version": 3
   },
   "file_extension": ".py",
   "mimetype": "text/x-python",
   "name": "python",
   "nbconvert_exporter": "python",
   "pygments_lexer": "ipython3",
   "version": "3.10.12"
  }
 },
 "nbformat": 4,
 "nbformat_minor": 5
}
